{
  "nbformat": 4,
  "nbformat_minor": 0,
  "metadata": {
    "colab": {
      "provenance": []
    },
    "kernelspec": {
      "name": "python3",
      "display_name": "Python 3"
    },
    "language_info": {
      "name": "python"
    }
  },
  "cells": [
    {
      "cell_type": "code",
      "execution_count": null,
      "metadata": {
        "id": "H38hrRtIMYp5"
      },
      "outputs": [],
      "source": []
    },
    {
      "cell_type": "markdown",
      "source": [
        "# 🏠 Smart Home Automation using AI\n",
        "\n",
        "This project simulates a smart home AI system that decides whether to turn the AC ON or OFF based on data like temperature, humidity, motion detection, and time of day.\n"
      ],
      "metadata": {
        "id": "_j-0my7KNCnZ"
      }
    },
    {
      "cell_type": "code",
      "source": [
        "import pandas as pd\n",
        "\n",
        "# Sample data\n",
        "data = {\n",
        "    'Temperature': [22, 27, 18, 30, 24, 21],\n",
        "    'Humidity': [40, 60, 35, 70, 50, 45],\n",
        "    'MotionDetected': [1, 1, 0, 1, 0, 1],  # 1 = someone is home\n",
        "    'TimeOfDay': ['Morning', 'Afternoon', 'Night', 'Evening', 'Night', 'Morning'],\n",
        "    'AC_On': [0, 1, 0, 1, 0, 0]\n",
        "}\n",
        "\n",
        "df = pd.DataFrame(data)\n",
        "df\n"
      ],
      "metadata": {
        "id": "LBF7OUbeNQHW"
      },
      "execution_count": null,
      "outputs": []
    },
    {
      "cell_type": "markdown",
      "source": [
        "## Step 3: Preprocessing the Data\n",
        "\n",
        "In this step, we encode categorical variables and split the data into training and testing sets.\n"
      ],
      "metadata": {
        "id": "iTQLJJMqNi5W"
      }
    },
    {
      "cell_type": "code",
      "source": [
        "from sklearn.preprocessing import LabelEncoder\n",
        "from sklearn.model_selection import train_test_split\n",
        "\n",
        "# Encode 'TimeOfDay'\n",
        "le = LabelEncoder()\n",
        "df['TimeOfDay'] = le.fit_transform(df['TimeOfDay'])\n",
        "\n",
        "# Split data into features and target\n",
        "X = df.drop('AC_On', axis=1)\n",
        "y = df['AC_On']\n",
        "\n",
        "# Train-test split\n",
        "X_train, X_test, y_train, y_test = train_test_split(X, y, test_size=0.3, random_state=42)\n"
      ],
      "metadata": {
        "id": "e3lzBOeBNuCb"
      },
      "execution_count": null,
      "outputs": []
    },
    {
      "cell_type": "markdown",
      "source": [
        "## Step 4: Model Training\n",
        "\n",
        "We'll now train a Random Forest Classifier on our dataset to learn when the AC should be turned ON or OFF based on environmental data.\n"
      ],
      "metadata": {
        "id": "D26T6G8OPmGo"
      }
    },
    {
      "cell_type": "code",
      "source": [
        "from sklearn.ensemble import RandomForestClassifier\n",
        "from sklearn.metrics import accuracy_score\n",
        "\n",
        "# Train the model\n",
        "model = RandomForestClassifier()\n",
        "model.fit(X_train, y_train)\n",
        "\n",
        "# Make predictions on test data\n",
        "y_pred = model.predict(X_test)\n",
        "\n",
        "# Evaluate the model\n",
        "print(\"Accuracy:\", accuracy_score(y_test, y_pred))\n"
      ],
      "metadata": {
        "id": "ouKNKdl1Pq7c"
      },
      "execution_count": null,
      "outputs": []
    },
    {
      "cell_type": "markdown",
      "source": [
        "## Step 5: Predicting AC Behavior for New Input\n",
        "\n",
        "We'll now simulate new sensor data to see how the AI model makes decisions for smart home AC control.\n"
      ],
      "metadata": {
        "id": "3O3O9SA_Pw5O"
      }
    },
    {
      "cell_type": "code",
      "source": [
        "# Simulate new sensor input\n",
        "# Example: 29°C temperature, 65% humidity, motion detected (1), time = Afternoon\n",
        "new_input = pd.DataFrame([[29, 65, 1, le.transform(['Afternoon'])[0]]], columns=X.columns)\n",
        "\n",
        "# Predict using the trained model\n",
        "prediction = model.predict(new_input)[0]\n",
        "\n",
        "# Output result\n",
        "print(\"Prediction:\", \"Turn AC ON 🟢\" if prediction == 1 else \"Keep AC OFF 🔴\")\n"
      ],
      "metadata": {
        "id": "SL1EOTMHP0xX"
      },
      "execution_count": null,
      "outputs": []
    },
    {
      "cell_type": "markdown",
      "source": [
        "## Step 6: Conclusion & Future Enhancements\n",
        "\n",
        "✅ Our AI model successfully simulates a smart home AC controller by learning from sensor data like temperature, humidity, presence, and time of day.\n",
        "\n",
        "🧠 It can predict whether the AC should be ON or OFF in a new situation.\n",
        "\n",
        "🚀 Future ideas to improve this system:\n",
        "\n",
        "- Integrate voice commands using Speech Recognition\n",
        "- Add control for lights, fans, and curtains\n",
        "- Use real-time sensor data via IoT devices (like Arduino or Raspberry Pi)\n",
        "- Build a mobile/web dashboard to control appliances\n",
        "\n",
        "This project demonstrates how AI can make home environments more intelligent and energy-efficient.\n"
      ],
      "metadata": {
        "id": "XExWEKXKQ5s_"
      }
    },
    {
      "cell_type": "code",
      "source": [],
      "metadata": {
        "id": "7HQHmsxtQ6aJ"
      },
      "execution_count": null,
      "outputs": []
    }
  ]
}